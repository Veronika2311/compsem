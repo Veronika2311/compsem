{
  "nbformat": 4,
  "nbformat_minor": 0,
  "metadata": {
    "kernelspec": {
      "display_name": "Python 3",
      "language": "python",
      "name": "python3"
    },
    "language_info": {
      "codemirror_mode": {
        "name": "ipython",
        "version": 3
      },
      "file_extension": ".py",
      "mimetype": "text/x-python",
      "name": "python",
      "nbconvert_exporter": "python",
      "pygments_lexer": "ipython3",
      "version": "3.7.4"
    },
    "colab": {
      "name": "Ganeeva_Veronika_hw2_models.ipynb",
      "provenance": [],
      "collapsed_sections": [],
      "include_colab_link": true
    }
  },
  "cells": [
    {
      "cell_type": "markdown",
      "metadata": {
        "id": "view-in-github",
        "colab_type": "text"
      },
      "source": [
        "<a href=\"https://colab.research.google.com/github/Veronika2311/compsem/blob/main/Ganeeva_Veronika_hw2_models.ipynb\" target=\"_parent\"><img src=\"https://colab.research.google.com/assets/colab-badge.svg\" alt=\"Open In Colab\"/></a>"
      ]
    },
    {
      "cell_type": "markdown",
      "metadata": {
        "id": "K6Ss45Z3BKGe"
      },
      "source": [
        "## Домашнее задание 2. Кластеризация векторного пространства\n",
        "\n",
        "*Вероника Ганеева, БКЛ181*"
      ]
    },
    {
      "cell_type": "code",
      "metadata": {
        "id": "XcP2b8XyHzY5"
      },
      "source": [
        "import sys\n",
        "import gensim, logging\n",
        " \n",
        "logging.basicConfig(format='%(asctime)s : %(levelname)s : %(message)s', level=logging.INFO)"
      ],
      "execution_count": 8,
      "outputs": []
    },
    {
      "cell_type": "code",
      "metadata": {
        "id": "HFYKDzaaVwai"
      },
      "source": [
        "import urllib\n",
        "import numpy as np\n",
        "import matplotlib.pyplot as plt\n",
        "import scipy\n",
        "import scipy.cluster.hierarchy as hcluster"
      ],
      "execution_count": 28,
      "outputs": []
    },
    {
      "cell_type": "code",
      "metadata": {
        "id": "TVM0nngcHzZK",
        "colab": {
          "base_uri": "https://localhost:8080/"
        },
        "outputId": "e8e7964b-7e93-4621-c602-dbf0b1b3467f"
      },
      "source": [
        "pip install wget"
      ],
      "execution_count": 10,
      "outputs": [
        {
          "output_type": "stream",
          "text": [
            "Requirement already satisfied: wget in /usr/local/lib/python3.7/dist-packages (3.2)\n"
          ],
          "name": "stdout"
        }
      ]
    },
    {
      "cell_type": "code",
      "metadata": {
        "id": "rkA3gdDn_rPi"
      },
      "source": [
        "import wget\n",
        "import zipfile"
      ],
      "execution_count": 118,
      "outputs": []
    },
    {
      "cell_type": "markdown",
      "metadata": {
        "id": "MwVC6lu9_z5o"
      },
      "source": [
        "### Модель\n",
        "\n",
        "\n",
        "Способ загрузки взят из тьюториала А. Кутузова для сайта русвекторес. Модель взята ruscorpora_upos_cbow_300_20_2019 -- НКРЯ, не очень большая, но последняя статистическая именно для НКРЯ и, должно быть, довольно качественная. "
      ]
    },
    {
      "cell_type": "code",
      "metadata": {
        "id": "ooUXDRYpHzZO",
        "colab": {
          "base_uri": "https://localhost:8080/"
        },
        "outputId": "32b50664-0b7c-4047-d9e1-7a14c6982726"
      },
      "source": [
        "model_url = 'http://vectors.nlpl.eu/repository/11/180.zip'\n",
        "m = wget.download(model_url)\n",
        "model_file = model_url.split('/')[-1]\n",
        "with zipfile.ZipFile(model_file, 'r') as archive:\n",
        "    stream = archive.open('model.bin')\n",
        "    model = gensim.models.KeyedVectors.load_word2vec_format(stream, binary=True)"
      ],
      "execution_count": 12,
      "outputs": [
        {
          "output_type": "stream",
          "text": [
            "2021-04-06 18:39:20,471 : INFO : loading projection weights from <zipfile.ZipExtFile name='model.bin' mode='r' compress_type=deflate>\n",
            "2021-04-06 18:39:30,829 : INFO : loaded (189193, 300) matrix from <zipfile.ZipExtFile [closed]>\n"
          ],
          "name": "stderr"
        }
      ]
    },
    {
      "cell_type": "markdown",
      "metadata": {
        "id": "DU7S3Gu__iof"
      },
      "source": [
        "### Векторы из модели"
      ]
    },
    {
      "cell_type": "code",
      "metadata": {
        "id": "I3LPArJ7N6u7"
      },
      "source": [
        "with open('otkryt.txt') as f:\n",
        "    all_words = f.read().split('\\n')\n",
        "for i, word in enumerate(all_words):\n",
        "    word = word.split('\\t')[0].split('_')[1] + '_NOUN'\n",
        "    all_words[i] = word"
      ],
      "execution_count": 21,
      "outputs": []
    },
    {
      "cell_type": "code",
      "metadata": {
        "id": "iyqu4NsxHzZa"
      },
      "source": [
        "dict_of_nouns = {}\n",
        "non_vector_words = []\n",
        "for word in all_words:\n",
        "    if word in model:\n",
        "        #print(word)\n",
        "        dict_of_nouns[word] = model[word]\n",
        "    else:\n",
        "        non_vector_words.append(word)\n",
        "        print('Увы, слова \"%s\" нет в модели!' % word)"
      ],
      "execution_count": 117,
      "outputs": []
    },
    {
      "cell_type": "code",
      "metadata": {
        "id": "lMGrF98pQNLl"
      },
      "source": [
        "all_vectors_list = []\n",
        "list_of_words = []\n",
        "otkryt_vector = model['открыть_VERB']\n",
        "dict_of_vectors = {}\n",
        "for word, vector in dict_of_nouns.items():\n",
        "    word = 'открыть_' + word\n",
        "    dict_of_vectors[word] = otkryt_vector + vector\n",
        "    all_vectors_list.append(otkryt_vector + vector)\n",
        "    list_of_words.append(word)"
      ],
      "execution_count": 88,
      "outputs": []
    },
    {
      "cell_type": "code",
      "metadata": {
        "colab": {
          "base_uri": "https://localhost:8080/"
        },
        "id": "YgWzxlAGf08m",
        "outputId": "79325840-1884-4674-a543-fffd628a896e"
      },
      "source": [
        "len(dict_of_nouns)"
      ],
      "execution_count": 89,
      "outputs": [
        {
          "output_type": "execute_result",
          "data": {
            "text/plain": [
              "100"
            ]
          },
          "metadata": {
            "tags": []
          },
          "execution_count": 89
        }
      ]
    },
    {
      "cell_type": "markdown",
      "metadata": {
        "id": "usw6riWOAqru"
      },
      "source": [
        "Ура, мы не потеряли слова и все из них нашлись в нашей модели!"
      ]
    },
    {
      "cell_type": "markdown",
      "metadata": {
        "id": "ybwx6YvB_Uto"
      },
      "source": [
        "### Классификация"
      ]
    },
    {
      "cell_type": "code",
      "metadata": {
        "id": "rQqNxwdZU1Zw"
      },
      "source": [
        "word_matrix = np.array(all_vectors_list)"
      ],
      "execution_count": 90,
      "outputs": []
    },
    {
      "cell_type": "code",
      "metadata": {
        "colab": {
          "base_uri": "https://localhost:8080/",
          "height": 262
        },
        "id": "tStMd0-Ep6OO",
        "outputId": "fb8383e2-7e2f-46f0-c9ef-bf24e8084e35"
      },
      "source": [
        "Z = hcluster.linkage(word_matrix)\n",
        "plt.figure()\n",
        "dn = hcluster.dendrogram(Z)\n",
        "plt.show()"
      ],
      "execution_count": 91,
      "outputs": [
        {
          "output_type": "display_data",
          "data": {
            "image/png": "[encoded data removed]",
            "text/plain": [
              "<Figure size 432x288 with 1 Axes>"
            ]
          },
          "metadata": {
            "tags": [],
            "needs_background": "light"
          }
        }
      ]
    },
    {
      "cell_type": "markdown",
      "metadata": {
        "id": "ixo-J8TEA2hK"
      },
      "source": [
        "Мне хотелось посмотреть на граф, так как я никак не могла подобрать количество кластеров -- или 70, или 1"
      ]
    },
    {
      "cell_type": "code",
      "metadata": {
        "id": "ekOMxCYQWxmR"
      },
      "source": [
        "tree_clusters = hcluster.fclusterdata(word_matrix, 1.141)"
      ],
      "execution_count": 100,
      "outputs": []
    },
    {
      "cell_type": "code",
      "metadata": {
        "colab": {
          "base_uri": "https://localhost:8080/"
        },
        "id": "-jEr1YKOocN2",
        "outputId": "05d836b1-8a37-4270-8c11-351710df186d"
      },
      "source": [
        "tree_clusters"
      ],
      "execution_count": 101,
      "outputs": [
        {
          "output_type": "execute_result",
          "data": {
            "text/plain": [
              "array([ 9,  1, 61, 10, 48,  9,  2, 10,  9, 52, 11,  2,  9, 44, 23,  5, 15,\n",
              "       29, 11,  8, 45, 67, 62, 16, 13,  7, 56,  4, 57,  1, 69, 30, 19, 12,\n",
              "        9, 32, 15, 65,  5, 25, 40, 31, 50, 36, 55, 64, 22,  4, 68,  8, 11,\n",
              "       49, 21, 24, 11, 60,  4,  3,  3, 42, 20, 71, 46, 70, 14, 51, 59, 34,\n",
              "       12, 11,  6,  7, 35, 43, 66, 54,  6, 41, 13, 39, 11, 14, 16, 37, 38,\n",
              "       28, 47,  3, 14, 26, 63, 11, 17, 33, 58, 11, 16, 53, 27, 18],\n",
              "      dtype=int32)"
            ]
          },
          "metadata": {
            "tags": []
          },
          "execution_count": 101
        }
      ]
    },
    {
      "cell_type": "markdown",
      "metadata": {
        "id": "rLMNRFcLsBd_"
      },
      "source": [
        "Почему t = 1.141? Если я возьму t на тысячную больше, то всё сольётся в один кластер, а это неинформативно. Если я возьму слишком маленькую t, то кластеров будет ещё больше, чем 71, а 71 -- это уже много"
      ]
    },
    {
      "cell_type": "code",
      "metadata": {
        "id": "dd1QcA5NqyXi"
      },
      "source": [
        "from collections import Counter"
      ],
      "execution_count": 70,
      "outputs": []
    },
    {
      "cell_type": "code",
      "metadata": {
        "id": "NoGRICiaqqF9"
      },
      "source": [
        "list_of_clusters = list(tree_clusters)\n",
        "#Counter(list_of_clusters) #Раскомментируйте эту строку, чтобы посмотреть на словарь"
      ],
      "execution_count": 84,
      "outputs": []
    },
    {
      "cell_type": "markdown",
      "metadata": {
        "id": "mjcS-xPoslqk"
      },
      "source": [
        "По словарю  выше (его вывод длиннный, поэтому закомментирован) я поняла, что кластеров 71 и что большая их часть меньше трёх."
      ]
    },
    {
      "cell_type": "code",
      "metadata": {
        "id": "v_B02uGCVZSx",
        "colab": {
          "base_uri": "https://localhost:8080/"
        },
        "outputId": "dbcb2026-b480-4aec-f2b0-da1fca6c4059"
      },
      "source": [
        " from sklearn.cluster import KMeans\n",
        " from sklearn.metrics.pairwise import cosine_similarity\n",
        " \n",
        "kmeans_clusters = KMeans(n_clusters=6).fit(word_matrix)\n",
        "kmeans.labels_"
      ],
      "execution_count": 115,
      "outputs": [
        {
          "output_type": "execute_result",
          "data": {
            "text/plain": [
              "array([2, 3, 3, 2, 0, 2, 0, 2, 2, 0, 1, 0, 2, 4, 5, 5, 4, 1, 1, 0, 5, 5,\n",
              "       5, 5, 1, 2, 5, 5, 5, 3, 4, 2, 5, 4, 2, 4, 5, 5, 5, 1, 5, 3, 2, 5,\n",
              "       0, 4, 1, 5, 4, 0, 1, 0, 1, 2, 1, 2, 5, 3, 3, 0, 1, 5, 0, 0, 3, 5,\n",
              "       0, 5, 4, 1, 4, 2, 4, 5, 5, 5, 4, 1, 1, 5, 1, 3, 3, 5, 5, 2, 5, 3,\n",
              "       3, 2, 0, 1, 3, 5, 5, 1, 2, 0, 2, 0], dtype=int32)"
            ]
          },
          "metadata": {
            "tags": []
          },
          "execution_count": 115
        }
      ]
    },
    {
      "cell_type": "markdown",
      "metadata": {
        "id": "jJEuxboOwPJN"
      },
      "source": [
        "Почему кластеров 6? Я искала их оптимальное число, учитывая то, как они раскластеризовались в дереве. Сейчас там шесть кластеров с тремя и больше единицами в каждом."
      ]
    },
    {
      "cell_type": "markdown",
      "metadata": {
        "id": "Ibpc8OhF-8-g"
      },
      "source": [
        "### Ближайшие и центры"
      ]
    },
    {
      "cell_type": "code",
      "metadata": {
        "id": "4fq97sGYwNEa"
      },
      "source": [
        "def get_dict(clusters, list_of_words, all_vectors_list):\n",
        "    dict_of_clusters = {}\n",
        "    for i, number_of_vector in enumerate(clusters):\n",
        "        if number_of_vector not in dict_of_clusters:\n",
        "            dict_of_clusters[number_of_vector] = [(list_of_words[i], all_vectors_list[i], i)]\n",
        "        else:\n",
        "            dict_of_clusters[number_of_vector].append((list_of_words[i], all_vectors_list[i], i))\n",
        "\n",
        "    return dict_of_clusters"
      ],
      "execution_count": 99,
      "outputs": []
    },
    {
      "cell_type": "code",
      "metadata": {
        "id": "yHHxH6nIVtIx"
      },
      "source": [
        "def get_centers(dict_of_clusters):\n",
        "    centers = {}\n",
        "    for cluster, vectors in dict_of_clusters.items():\n",
        "        if len(vectors) > 2:\n",
        "            matrix_of_vectors = np.array([el[1] for el in dict_of_clusters[cluster]])\n",
        "            centers[cluster] = np.mean(matrix_of_vectors, axis=0)\n",
        "    return centers"
      ],
      "execution_count": 105,
      "outputs": []
    },
    {
      "cell_type": "code",
      "metadata": {
        "id": "l6TT70EC1QhA"
      },
      "source": [
        "#функция печатает 3 ближайших\n",
        "def get_neighbors(centers, dict_of_clusters):\n",
        "    for cluster in centers:\n",
        "        cent = centers[cluster]\n",
        "        neighbors = {}\n",
        "        for data_of_words in dict_of_clusters[cluster]:\n",
        "            vector = data_of_words[1].reshape(1, -1)\n",
        "            cent = cent.reshape(1, -1)\n",
        "            neighbors[data_of_words[0]] = float(cosine_similarity(cent, vector))\n",
        "        neighbors = dict(sorted(neighbors.items(), key=lambda item: item[1], reverse=True))\n",
        "        print(', '.join(list(neighbors.keys())[0:3]))"
      ],
      "execution_count": 110,
      "outputs": []
    },
    {
      "cell_type": "markdown",
      "metadata": {
        "id": "XDiWMEE2_EHh"
      },
      "source": [
        "### Результаты"
      ]
    },
    {
      "cell_type": "markdown",
      "metadata": {
        "id": "6dQ7ynxy3kno"
      },
      "source": [
        "Мы написали несколько упрощающих обработку функций. Теперь посмотрим на то, что получилось"
      ]
    },
    {
      "cell_type": "code",
      "metadata": {
        "colab": {
          "base_uri": "https://localhost:8080/"
        },
        "id": "EkyUGLXR2tuR",
        "outputId": "2d1aa343-55cd-4d22-bc18-8b36e6774ec9"
      },
      "source": [
        " tree_dict = get_dict(tree_clusters, list_of_words, all_vectors_list)\n",
        " tree_center = get_centers(tree_dict)\n",
        " get_neighbors(tree_center, tree_dict)"
      ],
      "execution_count": 111,
      "outputs": [
        {
          "output_type": "stream",
          "text": [
            "открыть_дверь_NOUN, открыть_калитка_NOUN, открыть_дверца_NOUN\n",
            "открыть_чемодан_NOUN, открыть_ящик_NOUN, открыть_шкаф_NOUN\n",
            "открыть_америка_NOUN, открыть_шлюз_NOUN, открыть_старик_NOUN\n",
            "открыть_музей_NOUN, открыть_выставка_NOUN, открыть_памятник_NOUN\n",
            "открыть_грудь_NOUN, открыть_рука_NOUN, открыть_голова_NOUN\n",
            "открыть_мать_NOUN, открыть_отец_NOUN, открыть_мама_NOUN\n"
          ],
          "name": "stdout"
        }
      ]
    },
    {
      "cell_type": "code",
      "metadata": {
        "colab": {
          "base_uri": "https://localhost:8080/"
        },
        "id": "ykIIBRQ34v9E",
        "outputId": "78d0d4a9-5d53-4726-d159-a544ebf78bac"
      },
      "source": [
        "kmeans_dict = get_dict(kmeans_clusters.labels_, list_of_words, all_vectors_list)\n",
        "kmeans_center = get_centers(kmeans_dict)\n",
        "get_neighbors(kmeans_center, kmeans_dict)"
      ],
      "execution_count": 116,
      "outputs": [
        {
          "output_type": "stream",
          "text": [
            "открыть_ящик_NOUN, открыть_шкаф_NOUN, открыть_багажник_NOUN\n",
            "открыть_грудь_NOUN, открыть_глаз_NOUN, открыть_голова_NOUN\n",
            "открыть_батарея_NOUN, открыть_пальба_NOUN, открыть_огонь_NOUN\n",
            "открыть_мир_NOUN, открыть_истина_NOUN, открыть_общество_NOUN\n",
            "открыть_америка_NOUN, открыть_отец_NOUN, открыть_мать_NOUN\n",
            "открыть_музей_NOUN, открыть_представительство_NOUN, открыть_выставка_NOUN\n"
          ],
          "name": "stdout"
        }
      ]
    },
    {
      "cell_type": "markdown",
      "metadata": {
        "id": "yEqiGXZn51Yn"
      },
      "source": [
        "Ура! У нас есть результат! Что можно о нём сказать? \n",
        "\n",
        "Ближайшие из кластеров дерева. Первые два -- прекрасны! Один про двери разных видов, второй про вместилища. Третий странноват. Четвёртый опять прекрасен. Пятый -- сделать открытыми части тела, хотя здесь могут быть и переносные смыслы. Шестой интересен, первое, что пришло мне в голову -- можно сказать \"открой кому-то\" в значении \"открой входную дверь/домофон/что-то вроде этого\". Но в этом случае (пока единственный, который приходит мне в голову) можно опустить то, что именно нужно открывать. Хотя, конечно, здесь может быть что-то другое в значениях.\n",
        "\n",
        "Теперь ближайшие средние. Первый похож на второй из дерева, второй совпадает с пятым из дерева. Третий новый, и он тоже хорош -- всё о том, чтобы начать стрелять. Четвёртый похож на правду минимум первыми двумя сочетаниями: открыть мир и открыть истину -- внезапно осознать нечто новое. Пятый похож на шестой выше, а \"открыть Америку\", видимо, блуждает. Шестой про то же, что четвёртый -- начало использования и/или существования новых учреждений/объектов. \n",
        "\n",
        "В общем и целом -- получилось у двух алгоритмов похоже. Есть несколько отличающихся моментов, но здесь мы можем увидеть, что основные группы значений открыть -- либо устранить преграду вроде двери, либо сделать доступным вместилище, либо сделать доступным/получить какое-то новое знание, либо начать процесс (стрельбы, например), либо начать и сделать доступным для использования учреждения. Ещё более в общем -- здесь присутствует общий элемент \"сделать доступным для использования некоторый объект, или пространство, или знание, или процесс\""
      ]
    }
  ]
}